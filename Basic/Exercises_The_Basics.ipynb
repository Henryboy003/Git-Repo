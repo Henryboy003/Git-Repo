{
  "cells": [
    {
      "metadata": {
        "trusted": true
      },
      "cell_type": "code",
      "source": "#1.1\nx=5\nfor x in range(5,36):\n    IsOdd = x%2\n    if IsOdd == 0:\n        print(str(x) + \" Is even!\")\n    if IsOdd == 1:\n        print(str(x) + \" Is odd!\")\n    x = x+1",
      "execution_count": 2,
      "outputs": [
        {
          "output_type": "stream",
          "text": "5 Is odd!\n6 Is even!\n7 Is odd!\n8 Is even!\n9 Is odd!\n10 Is even!\n11 Is odd!\n12 Is even!\n13 Is odd!\n14 Is even!\n15 Is odd!\n16 Is even!\n17 Is odd!\n18 Is even!\n19 Is odd!\n20 Is even!\n21 Is odd!\n22 Is even!\n23 Is odd!\n24 Is even!\n25 Is odd!\n26 Is even!\n27 Is odd!\n28 Is even!\n29 Is odd!\n30 Is even!\n31 Is odd!\n32 Is even!\n33 Is odd!\n34 Is even!\n35 Is odd!\n",
          "name": "stdout"
        }
      ]
    },
    {
      "metadata": {
        "trusted": true
      },
      "cell_type": "code",
      "source": "#1.2\nimport math\nc = 1\nx = 1\nfor c in range(6):\n    f = 9/5*c+32\n    f = math.floor(f)\n    if x != 6:\n        print(str(f), end = \", \")\n    else:\n        print(str(f))\n    x= x+1\n",
      "execution_count": 3,
      "outputs": [
        {
          "output_type": "stream",
          "text": "32, 33, 35, 37, 39, 41\n",
          "name": "stdout"
        }
      ]
    },
    {
      "metadata": {
        "trusted": true,
        "scrolled": true
      },
      "cell_type": "code",
      "source": "#1.3\nword = input(\"Enter a word: \")\nword_list = [char for char in word]\nunicode_List = []\nbinary_List = []\nhex_List = []\nbin_str = \"\"\nhex_str = \"\"\nx= len(word)\ny = 0\nfor y in range(0,x):\n    unicode_List.append(ord(word_list[y]))\nfor y in range(0,x):\n    binary_List.append(bin(unicode_List[y]))\n    hex_List.append(hex(unicode_List[y]))\nfor y in range(0,x):\n    if y == (x-1):\n        bin_str += binary_List[y]\n        hex_str += hex_List[y]\n    else:\n        bin_str += binary_List[y] + \", \"\n        hex_str += hex_List[y] + \", \" \nprint(\"Word is: \" + word)\nprint(\"In hex: \"+ hex_str)\nprint(\"In bin: \"+ bin_str)",
      "execution_count": 4,
      "outputs": [
        {
          "output_type": "stream",
          "name": "stdout",
          "text": "Enter a word: Hello\nWord is: Hello\nIn hex: 0x48, 0x65, 0x6c, 0x6c, 0x6f\nIn bin: 0b1001000, 0b1100101, 0b1101100, 0b1101100, 0b1101111\n"
        }
      ]
    },
    {
      "metadata": {
        "trusted": true
      },
      "cell_type": "code",
      "source": "#1.4 part 1\ndef find_word(msg1,msg2):\n    msg1 = msg1.lower()\n    msg2 = msg2.lower()\n    answer = msg1.find(msg2,0,len(msg1))\n    if answer == -1:\n        return \"False\"\n    else:\n        return \"True\"\n\ninput1 = input(\"Type in a word:\")\ninput2 = input(\"Type in a string that it could contain: \" + input1 + \" You typed: \")\nfind_word(input1,input2)\n",
      "execution_count": 22,
      "outputs": [
        {
          "output_type": "stream",
          "name": "stdout",
          "text": "Type in a word:Hello\nType in a string that it could contain: Hello You typed: Ello\n"
        },
        {
          "output_type": "execute_result",
          "execution_count": 22,
          "data": {
            "text/plain": "'True'"
          },
          "metadata": {}
        }
      ]
    },
    {
      "metadata": {
        "trusted": true,
        "scrolled": true
      },
      "cell_type": "code",
      "source": "#1.4 part 2\nimport random\ndef randomNumber():\n    numberToGuess = random.randrange(1,11)\n    print(\"Guess a number between 1 and 10!\")\n    numberGuessed = 0\n    prevNumber = numberToGuess\n    numberOfGuesses = 1\n    print(numberToGuess)\n    while numberGuessed != numberToGuess:\n        numberGuessed = int(input(\"Number please! \"))\n        if numberGuessed < numberToGuess and numberGuessed < prevNumber:\n            print(\"Cold, try again!\")\n        if numberGuessed < numberToGuess and numberGuessed > prevNumber:\n            print(\"Hot, try again!\")\n        if numberGuessed > numberToGuess and numberGuessed > prevNumber:\n            print(\"Hot, Try again!\")\n        if numberGuessed > numberToGuess and numberGuessed < prevNumber:\n            print(\"Cold, try again!\")\n        if numberGuessed == numberToGuess:\n            return print(\"You did it in only \" + str(numberOfGuesses) + \" guesses!\")\n        prevNumber = numberGuessed\n        numberOfGuesses += 1\nrandomNumber()",
      "execution_count": 16,
      "outputs": [
        {
          "output_type": "stream",
          "text": "Guess a number between 1 and 10!\n10\nNumber please! 3\nCold, try again!\nNumber please! 4\nHot, try again!\nNumber please! 5\nHot, try again!\nNumber please! 10\nYou did it in only 4 guesses!\n",
          "name": "stdout"
        }
      ]
    },
    {
      "metadata": {
        "trusted": true
      },
      "cell_type": "code",
      "source": "#1.5\nfrom ipywidgets import interact\nimport math\ndef radiusTemplate(r):\n    if r < 0:\n        return 0\n    return (4/3)*math.pi*r**3\ninteract(radiusTemplate, r=10)",
      "execution_count": 7,
      "outputs": [
        {
          "output_type": "display_data",
          "data": {
            "application/vnd.jupyter.widget-view+json": {
              "model_id": "af08c89b3d3244c7ae81415f54086766",
              "version_minor": 0,
              "version_major": 2
            },
            "text/plain": "interactive(children=(IntSlider(value=10, description='r', max=30, min=-10), Output()), _dom_classes=('widget-…"
          },
          "metadata": {}
        },
        {
          "output_type": "execute_result",
          "execution_count": 7,
          "data": {
            "text/plain": "<function __main__.radiusTemplate(r)>"
          },
          "metadata": {}
        }
      ]
    },
    {
      "metadata": {
        "trusted": true
      },
      "cell_type": "code",
      "source": "#1.6\ndef weightInStones(x):\n    xkg = x*(1/.45359)\n    stones = (xkg*2.2)/14\n    print(stones)\nweightInStones(250)",
      "execution_count": 8,
      "outputs": [
        {
          "output_type": "stream",
          "text": "86.61062696645492\n",
          "name": "stdout"
        }
      ]
    },
    {
      "metadata": {
        "trusted": true
      },
      "cell_type": "code",
      "source": "#1.7\ndef inSer(r1, r2, v):\n    rEQ = r1+r2\n    i = v/rEQ\n    return i\ndef inPar(r1, r2, v):\n    r = 1/r1 + 1/r2\n    rEQ = 1/r\n    i = v/rEQ\n    return i\nprint(inSer(1,4,5))\nprint(inPar(1,4,5))",
      "execution_count": 9,
      "outputs": [
        {
          "output_type": "stream",
          "text": "1.0\n6.25\n",
          "name": "stdout"
        }
      ]
    },
    {
      "metadata": {
        "trusted": true
      },
      "cell_type": "code",
      "source": "#1.7\nfrom ipywidgets import interact\ndef omhsLaw(i,r):\n    if i < 0:\n        print(\"I can't calculate that\")\n        return\n    if r < 0:\n        print(\"I can't calculate that\")\n        return\n    v = i*r\n    w = v*i\n    print(\"With resistance of: \"+str(r) +\" and amps of: \"+str(i)+ \" we have:\")\n    print(\"Volts: \"+str(v)+\" Watts: \"+str(w))\ninteract(omhsLaw,i=10, r=10)",
      "execution_count": 15,
      "outputs": [
        {
          "output_type": "display_data",
          "data": {
            "application/vnd.jupyter.widget-view+json": {
              "model_id": "0e73f9c0b4dd4ac680536181f1f1223c",
              "version_minor": 0,
              "version_major": 2
            },
            "text/plain": "interactive(children=(IntSlider(value=10, description='i', max=30, min=-10), IntSlider(value=10, description='…"
          },
          "metadata": {}
        },
        {
          "output_type": "execute_result",
          "execution_count": 15,
          "data": {
            "text/plain": "<function __main__.omhsLaw(i, r)>"
          },
          "metadata": {}
        }
      ]
    },
    {
      "metadata": {
        "trusted": true
      },
      "cell_type": "code",
      "source": "#1.9\ndef oddEven(x):\n    oddEven = x%2\n    if x%2 == 0:\n        print(\"The LED is on at: \" +str(x))\n    if x%2 == 1:\n        print(\"The LED is off at: \" +str(x))\n    return\ninteract(oddEven, x=10)",
      "execution_count": 13,
      "outputs": [
        {
          "output_type": "display_data",
          "data": {
            "application/vnd.jupyter.widget-view+json": {
              "model_id": "11ddf9f9120140d3994f828f89b51787",
              "version_minor": 0,
              "version_major": 2
            },
            "text/plain": "interactive(children=(IntSlider(value=10, description='x', max=30, min=-10), Output()), _dom_classes=('widget-…"
          },
          "metadata": {}
        },
        {
          "output_type": "execute_result",
          "execution_count": 13,
          "data": {
            "text/plain": "<function __main__.oddEven(x)>"
          },
          "metadata": {}
        }
      ]
    },
    {
      "metadata": {
        "trusted": true
      },
      "cell_type": "code",
      "source": "#1.10\ndef change_it(cents):\n    if cents <= 0:\n        print(\"You can't have negative change\")\n        return\n    temp = 0\n    change = cents\n    quarters = 0\n    dimes = 0\n    nickles = 0\n    pennies = 0\n    temp = change%25\n    temp = change-temp\n    quarters = temp/25\n    change -= quarters*25\n    temp = change%10\n    temp = change-temp\n    dimes = temp/10\n    change -= dimes*10\n    temp = change%5\n    temp = change-temp\n    nickles = temp/5\n    change -= nickles*5\n    temp = change%1\n    temp = change - temp\n    pennies = temp\n    change -= pennies\n    quarters = math.floor(quarters)\n    dimes = math.floor(dimes)\n    nickles = math.floor(nickles)\n    pennies = math.floor(pennies)\n    print(\"With \" + str(cents)+ \" cents the denomination of change is:\")\n    print(str(quarters)+\" Quarters, \" +str(dimes)+ \" Dimes, \" +str(nickles)+ \" Nickels, \" + str(pennies)+ \" Pennies.\")\ninteract(change_it, cents=50)",
      "execution_count": 25,
      "outputs": [
        {
          "output_type": "display_data",
          "data": {
            "application/vnd.jupyter.widget-view+json": {
              "model_id": "22c53a5edc284c37894d75907d17d396",
              "version_minor": 0,
              "version_major": 2
            },
            "text/plain": "interactive(children=(IntSlider(value=50, description='cents', max=150, min=-50), Output()), _dom_classes=('wi…"
          },
          "metadata": {}
        },
        {
          "output_type": "execute_result",
          "execution_count": 25,
          "data": {
            "text/plain": "<function __main__.change_it(cents)>"
          },
          "metadata": {}
        }
      ]
    },
    {
      "metadata": {
        "trusted": true
      },
      "cell_type": "code",
      "source": "",
      "execution_count": null,
      "outputs": []
    }
  ],
  "metadata": {
    "kernelspec": {
      "name": "python36",
      "display_name": "Python 3.6",
      "language": "python"
    }
  },
  "nbformat": 4,
  "nbformat_minor": 2
}