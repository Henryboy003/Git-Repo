{
  "cells": [
    {
      "metadata": {
        "trusted": true
      },
      "cell_type": "code",
      "source": "#1.1\nx=5\nfor x in range(5,36):\n    IsOdd = x%2\n    if IsOdd == 0:\n        print(str(x) + \" Is even!\")\n    if IsOdd == 1:\n        print(str(x) + \" Is odd!\")\n    x = x+1",
      "execution_count": 11,
      "outputs": [
        {
          "output_type": "stream",
          "text": "5 Is odd!\n6 Is even!\n7 Is odd!\n8 Is even!\n9 Is odd!\n10 Is even!\n11 Is odd!\n12 Is even!\n13 Is odd!\n14 Is even!\n15 Is odd!\n16 Is even!\n17 Is odd!\n18 Is even!\n19 Is odd!\n20 Is even!\n21 Is odd!\n22 Is even!\n23 Is odd!\n24 Is even!\n25 Is odd!\n26 Is even!\n27 Is odd!\n28 Is even!\n29 Is odd!\n30 Is even!\n31 Is odd!\n32 Is even!\n33 Is odd!\n34 Is even!\n35 Is odd!\n",
          "name": "stdout"
        }
      ]
    },
    {
      "metadata": {
        "trusted": true
      },
      "cell_type": "code",
      "source": "#1.2\nimport math\nc = 1\nx = 1\nfor c in range(6):\n    f = 9/5*c+32\n    f = math.floor(f)\n    if x != 6:\n        print(str(f), end = \", \")\n    else:\n        print(str(f))\n    x= x+1\n",
      "execution_count": 32,
      "outputs": [
        {
          "output_type": "stream",
          "text": "32, 33, 35, 37, 39, 41\n",
          "name": "stdout"
        }
      ]
    },
    {
      "metadata": {
        "trusted": true
      },
      "cell_type": "code",
      "source": "",
      "execution_count": null,
      "outputs": []
    }
  ],
  "metadata": {
    "kernelspec": {
      "name": "python36",
      "display_name": "Python 3.6",
      "language": "python"
    },
    "language_info": {
      "mimetype": "text/x-python",
      "nbconvert_exporter": "python",
      "name": "python",
      "pygments_lexer": "ipython3",
      "version": "3.6.6",
      "file_extension": ".py",
      "codemirror_mode": {
        "version": 3,
        "name": "ipython"
      }
    }
  },
  "nbformat": 4,
  "nbformat_minor": 2
}