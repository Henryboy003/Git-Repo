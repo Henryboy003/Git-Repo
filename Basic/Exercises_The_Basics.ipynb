{
  "cells": [
    {
      "metadata": {
        "trusted": true
      },
      "cell_type": "code",
      "source": "#1.1\nx=5\nfor x in range(5,36):\n    IsOdd = x%2\n    if IsOdd == 0:\n        print(str(x) + \" Is even!\")\n    if IsOdd == 1:\n        print(str(x) + \" Is odd!\")\n    x = x+1",
      "execution_count": 11,
      "outputs": [
        {
          "output_type": "stream",
          "text": "5 Is odd!\n6 Is even!\n7 Is odd!\n8 Is even!\n9 Is odd!\n10 Is even!\n11 Is odd!\n12 Is even!\n13 Is odd!\n14 Is even!\n15 Is odd!\n16 Is even!\n17 Is odd!\n18 Is even!\n19 Is odd!\n20 Is even!\n21 Is odd!\n22 Is even!\n23 Is odd!\n24 Is even!\n25 Is odd!\n26 Is even!\n27 Is odd!\n28 Is even!\n29 Is odd!\n30 Is even!\n31 Is odd!\n32 Is even!\n33 Is odd!\n34 Is even!\n35 Is odd!\n",
          "name": "stdout"
        }
      ]
    },
    {
      "metadata": {
        "trusted": true
      },
      "cell_type": "code",
      "source": "#1.2\nimport math\nc = 1\nx = 1\nfor c in range(6):\n    f = 9/5*c+32\n    f = math.floor(f)\n    if x != 6:\n        print(str(f), end = \", \")\n    else:\n        print(str(f))\n    x= x+1\n",
      "execution_count": 32,
      "outputs": [
        {
          "output_type": "stream",
          "text": "32, 33, 35, 37, 39, 41\n",
          "name": "stdout"
        }
      ]
    },
    {
      "metadata": {
        "trusted": true,
        "scrolled": true
      },
      "cell_type": "code",
      "source": "#1.3\nword = input(\"Enter a word: \")\nword_list = [char for char in word]\nunicode_List = []\nbinary_List = []\nhex_List = []\nbin_str = \"\"\nhex_str = \"\"\nx= len(word)\ny = 0\nfor y in range(0,x):\n    unicode_List.append(ord(word_list[y]))\nfor y in range(0,x):\n    binary_List.append(bin(unicode_List[y]))\n    hex_List.append(hex(unicode_List[y]))\nfor y in range(0,x):\n    if y == (x-1):\n        bin_str += binary_List[y]\n        hex_str += hex_List[y]\n    else:\n        bin_str += binary_List[y] + \", \"\n        hex_str += hex_List[y] + \", \" \nprint(\"Word is: \" + word)\nprint(\"In hex: \"+ hex_str)\nprint(\"In bin: \"+ bin_str)",
      "execution_count": 35,
      "outputs": [
        {
          "output_type": "stream",
          "name": "stdout",
          "text": "Enter a word: Hello\nWord is: Hello\nIn hex: 0x48, 0x65, 0x6c, 0x6c, 0x6f\nIn bin: 0b1001000, 0b1100101, 0b1101100, 0b1101100, 0b1101111\n"
        }
      ]
    },
    {
      "metadata": {
        "trusted": true
      },
      "cell_type": "code",
      "source": "#1.4 part 1\ndef find_word(msg1,msg2):\n    msg1 = msg1.lower()\n    msg2 = msg2.lower()\n    answer = msg1.find(msg2,0,len(msg1))\n    if answer == -1:\n        return \"False\"\n    else:\n        return \"True\"\n\ninput1 = input(\"Type in a word:\")\ninput2 = input(\"Type in a string that it could contain:\")\nfind_word(input1,input2)\n",
      "execution_count": 11,
      "outputs": [
        {
          "output_type": "stream",
          "name": "stdout",
          "text": "Type in a word:Hello\nType in a string that it could contain:Ello\n"
        },
        {
          "output_type": "execute_result",
          "execution_count": 11,
          "data": {
            "text/plain": "'True'"
          },
          "metadata": {}
        }
      ]
    },
    {
      "metadata": {
        "trusted": true,
        "scrolled": true
      },
      "cell_type": "code",
      "source": "#1.4 part 2\nimport random\ndef randomNumber():\n    numberToGuess = random.randrange(1,11)\n    print(\"Guess a number between 1 and 10!\")\n    numberGuessed = 0\n    prevNumber = numberToGuess\n    numberOfGuesses = 1\n    print(numberToGuess)\n    while numberGuessed != numberToGuess:\n        numberGuessed = int(input(\"Number please! \"))\n        if numberGuessed < numberToGuess and numberGuessed < prevNumber:\n            print(\"Cold, try again!\")\n        if numberGuessed < numberToGuess and numberGuessed > prevNumber:\n            print(\"Hot, try again!\")\n        if numberGuessed > numberToGuess and numberGuessed > prevNumber:\n            print(\"Hot, Try again!\")\n        if numberGuessed > numberToGuess and numberGuessed < prevNumber:\n            print(\"Cold, try again!\")\n        if numberGuessed == numberToGuess:\n            return print(\"You did it in only \" + str(numberOfGuesses) + \" guesses!\")\n        prevNumber = numberGuessed\n        numberOfGuesses += 1\nrandomNumber()",
      "execution_count": 36,
      "outputs": [
        {
          "output_type": "stream",
          "text": "Guess a number between 1 and 10!\n5\nNumber please! 3\nCold, try again!\nNumber please! 4\nHot, try again!\nNumber please! 5\nYou did it in only 3 guesses!\n",
          "name": "stdout"
        }
      ]
    },
    {
      "metadata": {
        "trusted": true
      },
      "cell_type": "code",
      "source": "#1.5\n",
      "execution_count": null,
      "outputs": []
    },
    {
      "metadata": {
        "trusted": true
      },
      "cell_type": "code",
      "source": "",
      "execution_count": null,
      "outputs": []
    }
  ],
  "metadata": {
    "kernelspec": {
      "name": "python36",
      "display_name": "Python 3.6",
      "language": "python"
    },
    "language_info": {
      "mimetype": "text/x-python",
      "nbconvert_exporter": "python",
      "name": "python",
      "pygments_lexer": "ipython3",
      "version": "3.6.6",
      "file_extension": ".py",
      "codemirror_mode": {
        "version": 3,
        "name": "ipython"
      }
    }
  },
  "nbformat": 4,
  "nbformat_minor": 2
}